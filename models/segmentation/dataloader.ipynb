{
 "cells": [
  {
   "cell_type": "code",
   "execution_count": 2,
   "metadata": {},
   "outputs": [
    {
     "name": "stderr",
     "output_type": "stream",
     "text": [
      "2023-06-21 15:47:36.280965: I tensorflow/core/platform/cpu_feature_guard.cc:182] This TensorFlow binary is optimized to use available CPU instructions in performance-critical operations.\n",
      "To enable the following instructions: AVX2 FMA, in other operations, rebuild TensorFlow with the appropriate compiler flags.\n"
     ]
    }
   ],
   "source": [
    "import os\n",
    "import cv2\n",
    "import numpy as np\n",
    "from PIL import Image\n",
    "import tensorflow as tf"
   ]
  },
  {
   "cell_type": "code",
   "execution_count": 3,
   "metadata": {},
   "outputs": [
    {
     "name": "stdout",
     "output_type": "stream",
     "text": [
      "Tensorflow verison: 2.12.0\n"
     ]
    }
   ],
   "source": [
    "print(f\"Tensorflow verison: {tf.__version__}\")"
   ]
  },
  {
   "cell_type": "code",
   "execution_count": 4,
   "metadata": {},
   "outputs": [],
   "source": [
    "TARGET_SIZE = (2048, 1024)"
   ]
  },
  {
   "cell_type": "code",
   "execution_count": 5,
   "metadata": {},
   "outputs": [],
   "source": [
    "def normalize(rgb, mask):\n",
    "    rgb = np.expand_dims(normalize(np.array(rgb), axis=1),3)\n",
    "    mask = np.expand_dims((np.array(mask)), 3) / 255.0\n",
    "    return rgb, mask"
   ]
  },
  {
   "cell_type": "code",
   "execution_count": 7,
   "metadata": {},
   "outputs": [],
   "source": [
    "def load_data(rgb_dir, mask_dir):\n",
    "    rgb_dataset = []\n",
    "    mask_dataset = []\n",
    "    rgb = os.listdir(rgb_dir)\n",
    "    mask = os.listdir(mask_dir)\n",
    "\n",
    "    for i, image_name in enumerate(rgb):\n",
    "        if (image_name.split('.')[1] == 'jpg'):\n",
    "            rgb_image = cv2.imread(rgb_dir+image_name, 0)\n",
    "            rgb_image = Image.fromarray(rgb_image)\n",
    "            rgb_image = rgb_image.resize(TARGET_SIZE)\n",
    "            rgb_dataset.append(np.array(rgb_image))\n",
    "    \n",
    "    for i, image_name in enumerate(mask):\n",
    "        if (image_name.split('.')[1] == 'jpg'):\n",
    "            mask_image = cv2.imread(rgb_dir+image_name, 0)\n",
    "            mask_image = Image.fromarray(rgb_image)\n",
    "            mask_image = rgb_image.resize(TARGET_SIZE)\n",
    "            mask_dataset.append(np.array(mask_image))\n",
    "    \n",
    "    return rgb_dataset, mask_dataset\n",
    "        \n",
    "\n",
    "    "
   ]
  }
 ],
 "metadata": {
  "kernelspec": {
   "display_name": "venv",
   "language": "python",
   "name": "python3"
  },
  "language_info": {
   "codemirror_mode": {
    "name": "ipython",
    "version": 3
   },
   "file_extension": ".py",
   "mimetype": "text/x-python",
   "name": "python",
   "nbconvert_exporter": "python",
   "pygments_lexer": "ipython3",
   "version": "3.8.5"
  },
  "orig_nbformat": 4
 },
 "nbformat": 4,
 "nbformat_minor": 2
}
