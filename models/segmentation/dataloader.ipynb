{
 "cells": [
  {
   "cell_type": "code",
   "execution_count": null,
   "metadata": {},
   "outputs": [],
   "source": [
    "import os\n",
    "import cv2\n",
    "import numpy as np\n",
    "from matplotlib import pyplot as plt\n",
    "from PIL import Image\n",
    "import tensorflow as tf"
   ]
  },
  {
   "cell_type": "code",
   "execution_count": null,
   "metadata": {},
   "outputs": [],
   "source": [
    "print(f\"Tensorflow verison: {tf.__version__}\")"
   ]
  },
  {
   "cell_type": "code",
   "execution_count": null,
   "metadata": {},
   "outputs": [],
   "source": [
    "TARGET_X = 320\n",
    "TARGET_Y = 320"
   ]
  },
  {
   "cell_type": "code",
   "execution_count": 1,
   "metadata": {},
   "outputs": [],
   "source": [
    "def load_data(rgb_dir, mask_dir):\n",
    "    rgb = sorted(os.listdir(rgb_dir))\n",
    "    mask = sorted(os.listdir(mask_dir))\n",
    "    rgb_dataset = []\n",
    "    mask_dataset = []\n",
    "\n",
    "    for image_name in rgb:\n",
    "        img = cv2.imread(rgb_dir+image_name)\n",
    "        img = Image.fromarray(img)\n",
    "        img = img.resize((TARGET_X, TARGET_Y))\n",
    "        rgb_dataset.append(np.array(img))\n",
    "    \n",
    "    for image_name in mask:\n",
    "        img = cv2.imread(mask_dir+image_name, 0)\n",
    "        img = Image.fromarray(img)\n",
    "        img = img.resize((TARGET_X, TARGET_Y))\n",
    "        mask_dataset.append(np.array(img))\n",
    "    \n",
    "    return rgb_dataset, mask_dataset"
   ]
  }
 ],
 "metadata": {
  "kernelspec": {
   "display_name": "venv",
   "language": "python",
   "name": "python3"
  },
  "language_info": {
   "codemirror_mode": {
    "name": "ipython",
    "version": 3
   },
   "file_extension": ".py",
   "mimetype": "text/x-python",
   "name": "python",
   "nbconvert_exporter": "python",
   "pygments_lexer": "ipython3",
   "version": "3.8.5"
  },
  "orig_nbformat": 4
 },
 "nbformat": 4,
 "nbformat_minor": 2
}
