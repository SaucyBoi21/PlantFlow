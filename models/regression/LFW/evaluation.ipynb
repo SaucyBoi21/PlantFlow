{
 "cells": [
  {
   "cell_type": "code",
   "execution_count": 25,
   "metadata": {},
   "outputs": [],
   "source": [
    "import tensorflow as tf\n",
    "import pandas as pd"
   ]
  },
  {
   "cell_type": "code",
   "execution_count": 26,
   "metadata": {},
   "outputs": [
    {
     "name": "stdout",
     "output_type": "stream",
     "text": [
      "Tensorflow version: 2.12.0\n"
     ]
    }
   ],
   "source": [
    "print(f\"Tensorflow version: {tf.__version__}\")"
   ]
  },
  {
   "cell_type": "code",
   "execution_count": 27,
   "metadata": {},
   "outputs": [],
   "source": [
    "data_filepath = \"../../../data/csv/temporary/T01_data.csv\""
   ]
  },
  {
   "cell_type": "code",
   "execution_count": 28,
   "metadata": {},
   "outputs": [
    {
     "data": {
      "text/html": [
       "<div>\n",
       "<style scoped>\n",
       "    .dataframe tbody tr th:only-of-type {\n",
       "        vertical-align: middle;\n",
       "    }\n",
       "\n",
       "    .dataframe tbody tr th {\n",
       "        vertical-align: top;\n",
       "    }\n",
       "\n",
       "    .dataframe thead th {\n",
       "        text-align: right;\n",
       "    }\n",
       "</style>\n",
       "<table border=\"1\" class=\"dataframe\">\n",
       "  <thead>\n",
       "    <tr style=\"text-align: right;\">\n",
       "      <th></th>\n",
       "      <th>plant_area</th>\n",
       "      <th>plant_convex_hull_area</th>\n",
       "      <th>plant_solidity</th>\n",
       "      <th>plant_perimeter</th>\n",
       "      <th>plant_width</th>\n",
       "      <th>plant_height</th>\n",
       "      <th>plant_longest_path</th>\n",
       "      <th>plant_convex_hull_vertices</th>\n",
       "      <th>plant_ellipse_major_axis</th>\n",
       "      <th>plant_ellipse_minor_axis</th>\n",
       "      <th>plant_ellipse_angle</th>\n",
       "      <th>plant_ellipse_eccentricity</th>\n",
       "    </tr>\n",
       "  </thead>\n",
       "  <tbody>\n",
       "    <tr>\n",
       "      <th>465</th>\n",
       "      <td>13369</td>\n",
       "      <td>17954.0</td>\n",
       "      <td>0.744625</td>\n",
       "      <td>732.239676</td>\n",
       "      <td>156</td>\n",
       "      <td>154</td>\n",
       "      <td>1069</td>\n",
       "      <td>29</td>\n",
       "      <td>146.821976</td>\n",
       "      <td>139.276932</td>\n",
       "      <td>161.466660</td>\n",
       "      <td>0.316445</td>\n",
       "    </tr>\n",
       "    <tr>\n",
       "      <th>466</th>\n",
       "      <td>14857</td>\n",
       "      <td>19565.0</td>\n",
       "      <td>0.759366</td>\n",
       "      <td>716.925968</td>\n",
       "      <td>172</td>\n",
       "      <td>165</td>\n",
       "      <td>1223</td>\n",
       "      <td>27</td>\n",
       "      <td>168.806534</td>\n",
       "      <td>140.842514</td>\n",
       "      <td>125.322670</td>\n",
       "      <td>0.551246</td>\n",
       "    </tr>\n",
       "    <tr>\n",
       "      <th>467</th>\n",
       "      <td>12671</td>\n",
       "      <td>15788.0</td>\n",
       "      <td>0.802572</td>\n",
       "      <td>678.399057</td>\n",
       "      <td>162</td>\n",
       "      <td>133</td>\n",
       "      <td>1006</td>\n",
       "      <td>28</td>\n",
       "      <td>151.679611</td>\n",
       "      <td>126.188911</td>\n",
       "      <td>88.218590</td>\n",
       "      <td>0.554860</td>\n",
       "    </tr>\n",
       "    <tr>\n",
       "      <th>468</th>\n",
       "      <td>13874</td>\n",
       "      <td>18614.0</td>\n",
       "      <td>0.745353</td>\n",
       "      <td>741.251869</td>\n",
       "      <td>147</td>\n",
       "      <td>167</td>\n",
       "      <td>1103</td>\n",
       "      <td>30</td>\n",
       "      <td>153.688049</td>\n",
       "      <td>136.618027</td>\n",
       "      <td>171.836090</td>\n",
       "      <td>0.458042</td>\n",
       "    </tr>\n",
       "    <tr>\n",
       "      <th>469</th>\n",
       "      <td>41</td>\n",
       "      <td>32.0</td>\n",
       "      <td>1.281250</td>\n",
       "      <td>21.899495</td>\n",
       "      <td>7</td>\n",
       "      <td>8</td>\n",
       "      <td>38</td>\n",
       "      <td>8</td>\n",
       "      <td>7.281628</td>\n",
       "      <td>5.923509</td>\n",
       "      <td>35.219864</td>\n",
       "      <td>0.581583</td>\n",
       "    </tr>\n",
       "  </tbody>\n",
       "</table>\n",
       "</div>"
      ],
      "text/plain": [
       "     plant_area  plant_convex_hull_area  plant_solidity  plant_perimeter  \\\n",
       "465       13369                 17954.0        0.744625       732.239676   \n",
       "466       14857                 19565.0        0.759366       716.925968   \n",
       "467       12671                 15788.0        0.802572       678.399057   \n",
       "468       13874                 18614.0        0.745353       741.251869   \n",
       "469          41                    32.0        1.281250        21.899495   \n",
       "\n",
       "     plant_width  plant_height  plant_longest_path  \\\n",
       "465          156           154                1069   \n",
       "466          172           165                1223   \n",
       "467          162           133                1006   \n",
       "468          147           167                1103   \n",
       "469            7             8                  38   \n",
       "\n",
       "     plant_convex_hull_vertices  plant_ellipse_major_axis  \\\n",
       "465                          29                146.821976   \n",
       "466                          27                168.806534   \n",
       "467                          28                151.679611   \n",
       "468                          30                153.688049   \n",
       "469                           8                  7.281628   \n",
       "\n",
       "     plant_ellipse_minor_axis  plant_ellipse_angle  plant_ellipse_eccentricity  \n",
       "465                139.276932           161.466660                    0.316445  \n",
       "466                140.842514           125.322670                    0.551246  \n",
       "467                126.188911            88.218590                    0.554860  \n",
       "468                136.618027           171.836090                    0.458042  \n",
       "469                  5.923509            35.219864                    0.581583  "
      ]
     },
     "execution_count": 28,
     "metadata": {},
     "output_type": "execute_result"
    }
   ],
   "source": [
    "test_df = pd.read_csv(data_filepath)\n",
    "test_df = test_df.drop([\"Unnamed: 0.1\", \"Unnamed: 0\", \"date\", \"plant_id\", \"tray\", \"total_plants\"], axis=1)\n",
    "test_df.tail()"
   ]
  },
  {
   "cell_type": "code",
   "execution_count": null,
   "metadata": {},
   "outputs": [],
   "source": []
  },
  {
   "cell_type": "code",
   "execution_count": null,
   "metadata": {},
   "outputs": [],
   "source": []
  },
  {
   "cell_type": "code",
   "execution_count": null,
   "metadata": {},
   "outputs": [],
   "source": []
  },
  {
   "cell_type": "code",
   "execution_count": null,
   "metadata": {},
   "outputs": [],
   "source": []
  },
  {
   "cell_type": "code",
   "execution_count": null,
   "metadata": {},
   "outputs": [],
   "source": []
  },
  {
   "cell_type": "code",
   "execution_count": null,
   "metadata": {},
   "outputs": [],
   "source": []
  }
 ],
 "metadata": {
  "kernelspec": {
   "display_name": "venv",
   "language": "python",
   "name": "python3"
  },
  "language_info": {
   "codemirror_mode": {
    "name": "ipython",
    "version": 3
   },
   "file_extension": ".py",
   "mimetype": "text/x-python",
   "name": "python",
   "nbconvert_exporter": "python",
   "pygments_lexer": "ipython3",
   "version": "3.11.3"
  },
  "orig_nbformat": 4
 },
 "nbformat": 4,
 "nbformat_minor": 2
}
