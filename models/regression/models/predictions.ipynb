{
 "cells": [
  {
   "cell_type": "code",
   "execution_count": null,
   "metadata": {},
   "outputs": [
    {
     "name": "stderr",
     "output_type": "stream",
     "text": [
      "2023-09-30 11:48:16.906080: I tensorflow/tsl/cuda/cudart_stub.cc:28] Could not find cuda drivers on your machine, GPU will not be used.\n",
      "2023-09-30 11:48:16.936077: I tensorflow/tsl/cuda/cudart_stub.cc:28] Could not find cuda drivers on your machine, GPU will not be used.\n",
      "2023-09-30 11:48:16.936639: I tensorflow/core/platform/cpu_feature_guard.cc:182] This TensorFlow binary is optimized to use available CPU instructions in performance-critical operations.\n",
      "To enable the following instructions: AVX2 FMA, in other operations, rebuild TensorFlow with the appropriate compiler flags.\n",
      "2023-09-30 11:48:17.591127: W tensorflow/compiler/tf2tensorrt/utils/py_utils.cc:38] TF-TRT Warning: Could not find TensorRT\n"
     ]
    }
   ],
   "source": [
    "import tensorflow as tf\n",
    "import pandas as pd\n",
    "import numpy as np\n",
    "from sklearn.metrics import mean_absolute_error, mean_squared_error, r2_score,mean_absolute_percentage_error"
   ]
  },
  {
   "cell_type": "code",
   "execution_count": 2,
   "metadata": {},
   "outputs": [],
   "source": [
    "def generate_predictions(model, X):\n",
    "    \n",
    "    predictions = model.predict(X)\n",
    "    predictions_df = pd.DataFrame(predictions)\n",
    "    return predictions_df\n",
    "    \n"
   ]
  },
  {
   "cell_type": "code",
   "execution_count": 3,
   "metadata": {},
   "outputs": [],
   "source": [
    "def generate_csv(model, X, actual, X_label, y_label, filepath):\n",
    "\n",
    "    predictions_df = generate_predictions(model, X)\n",
    "    actual_df = pd.DataFrame(actual)\n",
    "    actual_df = actual_df.rename(columns={0:1})\n",
    "    df = pd.concat([predictions_df, actual_df], axis=1, join='inner')\n",
    "    df = df.rename(columns={ 0 : X_label, 1: y_label})\n",
    "\n",
    "    df.to_csv(filepath, index=False)\n"
   ]
  },
  {
   "cell_type": "code",
   "execution_count": null,
   "metadata": {},
   "outputs": [],
   "source": [
    "def reg_metrics(y_expected,y_predicted):\n",
    "    r2 = r2_score(y_expected, y_predicted)\n",
    "    mae = mean_absolute_error(y_expected, y_predicted)\n",
    "    mape = mean_absolute_percentage_error(y_expected, y_predicted)\n",
    "    rmse = np.sqrt(mean_squared_error(y_expected, y_predicted))\n",
    "    mean = np.mean(y_expected)\n",
    "    \n",
    "    return r2,mae,mape,rmse,mean"
   ]
  }
 ],
 "metadata": {
  "kernelspec": {
   "display_name": "venv",
   "language": "python",
   "name": "python3"
  },
  "language_info": {
   "codemirror_mode": {
    "name": "ipython",
    "version": 3
   },
   "file_extension": ".py",
   "mimetype": "text/x-python",
   "name": "python",
   "nbconvert_exporter": "python",
   "pygments_lexer": "ipython3",
   "version": "3.11.5"
  },
  "orig_nbformat": 4
 },
 "nbformat": 4,
 "nbformat_minor": 2
}
