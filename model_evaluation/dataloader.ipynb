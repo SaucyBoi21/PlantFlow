{
 "cells": [
  {
   "cell_type": "code",
   "execution_count": 1,
   "metadata": {},
   "outputs": [
    {
     "name": "stdout",
     "output_type": "stream",
     "text": [
      "WARNING:tensorflow:From c:\\Users\\saaha\\Documents\\GitHub\\PlantFlow\\venv\\Lib\\site-packages\\keras\\src\\losses.py:2976: The name tf.losses.sparse_softmax_cross_entropy is deprecated. Please use tf.compat.v1.losses.sparse_softmax_cross_entropy instead.\n",
      "\n"
     ]
    }
   ],
   "source": [
    "import tensorflow as tf\n",
    "import pandas as pd\n",
    "import numpy as np"
   ]
  },
  {
   "cell_type": "code",
   "execution_count": null,
   "metadata": {},
   "outputs": [],
   "source": [
    "def normalize(df):\n",
    "    df_mean = df.mean()\n",
    "    df_std = df.std()\n",
    "    \n",
    "    normalized_df = (df - df_mean) / df_std\n",
    "\n",
    "    return normalized_df\n",
    "\n"
   ]
  },
  {
   "cell_type": "code",
   "execution_count": 2,
   "metadata": {},
   "outputs": [],
   "source": [
    "def remove_noise(csv_filepath, target):\n",
    "    data = pd.read_csv(csv_filepath)\n",
    "    if (target == \"LA_mm2\"):\n",
    "        data = data.drop([\"date\", \"plant_id\", \"tray_id\"], axis=1)\n",
    "    elif (target == \"LDW_g\"):\n",
    "        data = data.drop([\"date\", \"plant_id\", \"tray_id\", \"LFW_g\", \"LA_mm2\"], axis=1)\n",
    "    elif (target == \"LFW_g\"):\n",
    "        data = data.drop([\"date\", \"plant_id\", \"tray_id\", \"LDW_g\", \"LA_mm2\"], axis=1)\n",
    "    else :\n",
    "        print(\"Invalid target; choose LFW_g, LDW_g, or LA_mm2\")\n",
    "        pass\n",
    "\n",
    "    return data\n",
    "\n",
    "    "
   ]
  },
  {
   "cell_type": "code",
   "execution_count": null,
   "metadata": {},
   "outputs": [],
   "source": [
    "def load_data(csv_filepath, target):\n",
    "\n",
    "    df = remove_noise(csv_filepath=csv_filepath, target=target)\n",
    "\n",
    "    X = df.drop([target], axis=1)\n",
    "    y = df[target]\n",
    "\n",
    "    X = normalize(X)\n",
    "\n",
    "    X = np.array(X)\n",
    "    y = np.array(y)\n",
    "\n",
    "    return X, y"
   ]
  }
 ],
 "metadata": {
  "kernelspec": {
   "display_name": "venv",
   "language": "python",
   "name": "python3"
  },
  "language_info": {
   "codemirror_mode": {
    "name": "ipython",
    "version": 3
   },
   "file_extension": ".py",
   "mimetype": "text/x-python",
   "name": "python",
   "nbconvert_exporter": "python",
   "pygments_lexer": "ipython3",
   "version": "3.11.7"
  }
 },
 "nbformat": 4,
 "nbformat_minor": 2
}
